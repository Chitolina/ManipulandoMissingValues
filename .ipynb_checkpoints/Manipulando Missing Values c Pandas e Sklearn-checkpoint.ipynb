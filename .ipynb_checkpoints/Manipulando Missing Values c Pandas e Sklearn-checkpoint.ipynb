{
 "cells": [
  {
   "cell_type": "markdown",
   "id": "65081521",
   "metadata": {},
   "source": [
    "## Manipulando Missing Values c Pandas"
   ]
  },
  {
   "cell_type": "code",
   "execution_count": 25,
   "id": "62371b0e",
   "metadata": {},
   "outputs": [],
   "source": [
    "import pandas as pd\n",
    "import numpy as np"
   ]
  },
  {
   "cell_type": "code",
   "execution_count": 26,
   "id": "d051c8d1",
   "metadata": {},
   "outputs": [
    {
     "data": {
      "text/html": [
       "<div>\n",
       "<style scoped>\n",
       "    .dataframe tbody tr th:only-of-type {\n",
       "        vertical-align: middle;\n",
       "    }\n",
       "\n",
       "    .dataframe tbody tr th {\n",
       "        vertical-align: top;\n",
       "    }\n",
       "\n",
       "    .dataframe thead th {\n",
       "        text-align: right;\n",
       "    }\n",
       "</style>\n",
       "<table border=\"1\" class=\"dataframe\">\n",
       "  <thead>\n",
       "    <tr style=\"text-align: right;\">\n",
       "      <th></th>\n",
       "      <th>Pregnancies</th>\n",
       "      <th>Glucose</th>\n",
       "      <th>BloodPressure</th>\n",
       "      <th>SkinThickness</th>\n",
       "      <th>Insulin</th>\n",
       "      <th>BMI</th>\n",
       "      <th>DiabetesPedigreeFunction</th>\n",
       "      <th>Age</th>\n",
       "      <th>Outcome</th>\n",
       "    </tr>\n",
       "  </thead>\n",
       "  <tbody>\n",
       "    <tr>\n",
       "      <th>0</th>\n",
       "      <td>6</td>\n",
       "      <td>148</td>\n",
       "      <td>72</td>\n",
       "      <td>35</td>\n",
       "      <td>0</td>\n",
       "      <td>33.6</td>\n",
       "      <td>0.627</td>\n",
       "      <td>50</td>\n",
       "      <td>1</td>\n",
       "    </tr>\n",
       "    <tr>\n",
       "      <th>1</th>\n",
       "      <td>1</td>\n",
       "      <td>85</td>\n",
       "      <td>66</td>\n",
       "      <td>29</td>\n",
       "      <td>0</td>\n",
       "      <td>26.6</td>\n",
       "      <td>0.351</td>\n",
       "      <td>31</td>\n",
       "      <td>0</td>\n",
       "    </tr>\n",
       "    <tr>\n",
       "      <th>2</th>\n",
       "      <td>8</td>\n",
       "      <td>183</td>\n",
       "      <td>64</td>\n",
       "      <td>0</td>\n",
       "      <td>0</td>\n",
       "      <td>23.3</td>\n",
       "      <td>0.672</td>\n",
       "      <td>32</td>\n",
       "      <td>1</td>\n",
       "    </tr>\n",
       "    <tr>\n",
       "      <th>3</th>\n",
       "      <td>1</td>\n",
       "      <td>89</td>\n",
       "      <td>66</td>\n",
       "      <td>23</td>\n",
       "      <td>94</td>\n",
       "      <td>28.1</td>\n",
       "      <td>0.167</td>\n",
       "      <td>21</td>\n",
       "      <td>0</td>\n",
       "    </tr>\n",
       "    <tr>\n",
       "      <th>4</th>\n",
       "      <td>0</td>\n",
       "      <td>137</td>\n",
       "      <td>40</td>\n",
       "      <td>35</td>\n",
       "      <td>168</td>\n",
       "      <td>43.1</td>\n",
       "      <td>2.288</td>\n",
       "      <td>33</td>\n",
       "      <td>1</td>\n",
       "    </tr>\n",
       "  </tbody>\n",
       "</table>\n",
       "</div>"
      ],
      "text/plain": [
       "   Pregnancies  Glucose  BloodPressure  SkinThickness  Insulin   BMI  \\\n",
       "0            6      148             72             35        0  33.6   \n",
       "1            1       85             66             29        0  26.6   \n",
       "2            8      183             64              0        0  23.3   \n",
       "3            1       89             66             23       94  28.1   \n",
       "4            0      137             40             35      168  43.1   \n",
       "\n",
       "   DiabetesPedigreeFunction  Age  Outcome  \n",
       "0                     0.627   50        1  \n",
       "1                     0.351   31        0  \n",
       "2                     0.672   32        1  \n",
       "3                     0.167   21        0  \n",
       "4                     2.288   33        1  "
      ]
     },
     "execution_count": 26,
     "metadata": {},
     "output_type": "execute_result"
    }
   ],
   "source": [
    "df = pd.read_csv(\"diabetes.csv\")\n",
    "df.head()"
   ]
  },
  {
   "cell_type": "code",
   "execution_count": 27,
   "id": "b2ce8c13",
   "metadata": {},
   "outputs": [
    {
     "data": {
      "text/html": [
       "<div>\n",
       "<style scoped>\n",
       "    .dataframe tbody tr th:only-of-type {\n",
       "        vertical-align: middle;\n",
       "    }\n",
       "\n",
       "    .dataframe tbody tr th {\n",
       "        vertical-align: top;\n",
       "    }\n",
       "\n",
       "    .dataframe thead th {\n",
       "        text-align: right;\n",
       "    }\n",
       "</style>\n",
       "<table border=\"1\" class=\"dataframe\">\n",
       "  <thead>\n",
       "    <tr style=\"text-align: right;\">\n",
       "      <th></th>\n",
       "      <th>Pregnancies</th>\n",
       "      <th>Glucose</th>\n",
       "      <th>BloodPressure</th>\n",
       "      <th>SkinThickness</th>\n",
       "      <th>Insulin</th>\n",
       "      <th>BMI</th>\n",
       "      <th>DiabetesPedigreeFunction</th>\n",
       "      <th>Age</th>\n",
       "      <th>Outcome</th>\n",
       "    </tr>\n",
       "  </thead>\n",
       "  <tbody>\n",
       "    <tr>\n",
       "      <th>count</th>\n",
       "      <td>768.000000</td>\n",
       "      <td>768.000000</td>\n",
       "      <td>768.000000</td>\n",
       "      <td>768.000000</td>\n",
       "      <td>768.000000</td>\n",
       "      <td>768.000000</td>\n",
       "      <td>768.000000</td>\n",
       "      <td>768.000000</td>\n",
       "      <td>768.000000</td>\n",
       "    </tr>\n",
       "    <tr>\n",
       "      <th>mean</th>\n",
       "      <td>3.845052</td>\n",
       "      <td>120.894531</td>\n",
       "      <td>69.105469</td>\n",
       "      <td>20.536458</td>\n",
       "      <td>79.799479</td>\n",
       "      <td>31.992578</td>\n",
       "      <td>0.471876</td>\n",
       "      <td>33.240885</td>\n",
       "      <td>0.348958</td>\n",
       "    </tr>\n",
       "    <tr>\n",
       "      <th>std</th>\n",
       "      <td>3.369578</td>\n",
       "      <td>31.972618</td>\n",
       "      <td>19.355807</td>\n",
       "      <td>15.952218</td>\n",
       "      <td>115.244002</td>\n",
       "      <td>7.884160</td>\n",
       "      <td>0.331329</td>\n",
       "      <td>11.760232</td>\n",
       "      <td>0.476951</td>\n",
       "    </tr>\n",
       "    <tr>\n",
       "      <th>min</th>\n",
       "      <td>0.000000</td>\n",
       "      <td>0.000000</td>\n",
       "      <td>0.000000</td>\n",
       "      <td>0.000000</td>\n",
       "      <td>0.000000</td>\n",
       "      <td>0.000000</td>\n",
       "      <td>0.078000</td>\n",
       "      <td>21.000000</td>\n",
       "      <td>0.000000</td>\n",
       "    </tr>\n",
       "    <tr>\n",
       "      <th>25%</th>\n",
       "      <td>1.000000</td>\n",
       "      <td>99.000000</td>\n",
       "      <td>62.000000</td>\n",
       "      <td>0.000000</td>\n",
       "      <td>0.000000</td>\n",
       "      <td>27.300000</td>\n",
       "      <td>0.243750</td>\n",
       "      <td>24.000000</td>\n",
       "      <td>0.000000</td>\n",
       "    </tr>\n",
       "    <tr>\n",
       "      <th>50%</th>\n",
       "      <td>3.000000</td>\n",
       "      <td>117.000000</td>\n",
       "      <td>72.000000</td>\n",
       "      <td>23.000000</td>\n",
       "      <td>30.500000</td>\n",
       "      <td>32.000000</td>\n",
       "      <td>0.372500</td>\n",
       "      <td>29.000000</td>\n",
       "      <td>0.000000</td>\n",
       "    </tr>\n",
       "    <tr>\n",
       "      <th>75%</th>\n",
       "      <td>6.000000</td>\n",
       "      <td>140.250000</td>\n",
       "      <td>80.000000</td>\n",
       "      <td>32.000000</td>\n",
       "      <td>127.250000</td>\n",
       "      <td>36.600000</td>\n",
       "      <td>0.626250</td>\n",
       "      <td>41.000000</td>\n",
       "      <td>1.000000</td>\n",
       "    </tr>\n",
       "    <tr>\n",
       "      <th>max</th>\n",
       "      <td>17.000000</td>\n",
       "      <td>199.000000</td>\n",
       "      <td>122.000000</td>\n",
       "      <td>99.000000</td>\n",
       "      <td>846.000000</td>\n",
       "      <td>67.100000</td>\n",
       "      <td>2.420000</td>\n",
       "      <td>81.000000</td>\n",
       "      <td>1.000000</td>\n",
       "    </tr>\n",
       "  </tbody>\n",
       "</table>\n",
       "</div>"
      ],
      "text/plain": [
       "       Pregnancies     Glucose  BloodPressure  SkinThickness     Insulin  \\\n",
       "count   768.000000  768.000000     768.000000     768.000000  768.000000   \n",
       "mean      3.845052  120.894531      69.105469      20.536458   79.799479   \n",
       "std       3.369578   31.972618      19.355807      15.952218  115.244002   \n",
       "min       0.000000    0.000000       0.000000       0.000000    0.000000   \n",
       "25%       1.000000   99.000000      62.000000       0.000000    0.000000   \n",
       "50%       3.000000  117.000000      72.000000      23.000000   30.500000   \n",
       "75%       6.000000  140.250000      80.000000      32.000000  127.250000   \n",
       "max      17.000000  199.000000     122.000000      99.000000  846.000000   \n",
       "\n",
       "              BMI  DiabetesPedigreeFunction         Age     Outcome  \n",
       "count  768.000000                768.000000  768.000000  768.000000  \n",
       "mean    31.992578                  0.471876   33.240885    0.348958  \n",
       "std      7.884160                  0.331329   11.760232    0.476951  \n",
       "min      0.000000                  0.078000   21.000000    0.000000  \n",
       "25%     27.300000                  0.243750   24.000000    0.000000  \n",
       "50%     32.000000                  0.372500   29.000000    0.000000  \n",
       "75%     36.600000                  0.626250   41.000000    1.000000  \n",
       "max     67.100000                  2.420000   81.000000    1.000000  "
      ]
     },
     "execution_count": 27,
     "metadata": {},
     "output_type": "execute_result"
    }
   ],
   "source": [
    "df.describe() #infos estatísticas de cada variável\n",
    "\n",
    "#o que tiver de 0 eu vou transformar em registros NaN"
   ]
  },
  {
   "cell_type": "code",
   "execution_count": 28,
   "id": "13be6a50",
   "metadata": {},
   "outputs": [
    {
     "data": {
      "text/plain": [
       "Pregnancies                 0\n",
       "Glucose                     0\n",
       "BloodPressure               0\n",
       "SkinThickness               0\n",
       "Insulin                     0\n",
       "BMI                         0\n",
       "DiabetesPedigreeFunction    0\n",
       "Age                         0\n",
       "Outcome                     0\n",
       "dtype: int64"
      ]
     },
     "execution_count": 28,
     "metadata": {},
     "output_type": "execute_result"
    }
   ],
   "source": [
    "df.isnull().sum() \n",
    "#verificar que variáveis têm registros nulos\n",
    "#0 não é nulo, mas transformarei em nulos"
   ]
  },
  {
   "cell_type": "code",
   "execution_count": 32,
   "id": "ff3a5115",
   "metadata": {},
   "outputs": [
    {
     "data": {
      "text/plain": [
       "Pregnancies                 111\n",
       "Glucose                       5\n",
       "BloodPressure                35\n",
       "SkinThickness               227\n",
       "Insulin                     374\n",
       "BMI                          11\n",
       "DiabetesPedigreeFunction      0\n",
       "Age                           0\n",
       "Outcome                     500\n",
       "dtype: int64"
      ]
     },
     "execution_count": 32,
     "metadata": {},
     "output_type": "execute_result"
    }
   ],
   "source": [
    "(df[['Pregnancies','Glucose','BloodPressure','SkinThickness',\n",
    "    'Insulin','BMI','DiabetesPedigreeFunction','Age','Outcome']]==0).sum()\n",
    "\n",
    "#filtrei todos os atributos c valor igual a 0 e fazer a conta para cada"
   ]
  },
  {
   "cell_type": "code",
   "execution_count": 33,
   "id": "82baa222",
   "metadata": {},
   "outputs": [],
   "source": [
    "df = df[['Pregnancies','Glucose','BloodPressure','SkinThickness',\n",
    "    'Insulin','BMI']].replace(0,np.NAN) #outcome n foi pickado pq é categórico\n",
    "\n",
    "#todos c valor 0 serão substituídos por NAN"
   ]
  },
  {
   "cell_type": "code",
   "execution_count": 34,
   "id": "e46afd24",
   "metadata": {},
   "outputs": [
    {
     "data": {
      "text/plain": [
       "Pregnancies      111\n",
       "Glucose            5\n",
       "BloodPressure     35\n",
       "SkinThickness    227\n",
       "Insulin          374\n",
       "BMI               11\n",
       "dtype: int64"
      ]
     },
     "execution_count": 34,
     "metadata": {},
     "output_type": "execute_result"
    }
   ],
   "source": [
    "df.isnull().sum()"
   ]
  },
  {
   "cell_type": "markdown",
   "id": "2acf9057",
   "metadata": {},
   "source": [
    "### Tratando os registros Missing"
   ]
  },
  {
   "cell_type": "markdown",
   "id": "ec57b427",
   "metadata": {},
   "source": [
    "Excluir registros"
   ]
  },
  {
   "cell_type": "markdown",
   "id": "472b88fa",
   "metadata": {},
   "source": [
    "#### Excluir todos os registros que têm pelo menos um NAN em algum atributo"
   ]
  },
  {
   "cell_type": "code",
   "execution_count": 35,
   "id": "8e475e43",
   "metadata": {},
   "outputs": [],
   "source": [
    "df2 = df.dropna() \n",
    "\n",
    "#dropna sem parametros excluir toda linha que tem dado NAN\n",
    "#independente se outro atributo n tem NAN\n",
    "#perigoso pq excluir muita coisa"
   ]
  },
  {
   "cell_type": "code",
   "execution_count": 36,
   "id": "6e16eba4",
   "metadata": {},
   "outputs": [
    {
     "data": {
      "text/plain": [
       "Pregnancies      0\n",
       "Glucose          0\n",
       "BloodPressure    0\n",
       "SkinThickness    0\n",
       "Insulin          0\n",
       "BMI              0\n",
       "dtype: int64"
      ]
     },
     "execution_count": 36,
     "metadata": {},
     "output_type": "execute_result"
    }
   ],
   "source": [
    "df2.isnull().sum() "
   ]
  },
  {
   "cell_type": "markdown",
   "id": "785a69bb",
   "metadata": {},
   "source": [
    "#### Excluindo os registros que contém EM TODOS os atributos dados NAN"
   ]
  },
  {
   "cell_type": "code",
   "execution_count": 37,
   "id": "22a4f0f3",
   "metadata": {},
   "outputs": [],
   "source": [
    "df2 = df_diabetes.dropna(how=\"all\") #especifica um parâmetro no dropna"
   ]
  },
  {
   "cell_type": "code",
   "execution_count": 38,
   "id": "55212254",
   "metadata": {},
   "outputs": [
    {
     "data": {
      "text/plain": [
       "Pregnancies      111\n",
       "Glucose            5\n",
       "BloodPressure     35\n",
       "SkinThickness    227\n",
       "Insulin          374\n",
       "BMI               11\n",
       "dtype: int64"
      ]
     },
     "execution_count": 38,
     "metadata": {},
     "output_type": "execute_result"
    }
   ],
   "source": [
    "df2.isnull().sum()"
   ]
  },
  {
   "cell_type": "markdown",
   "id": "83efb5c5",
   "metadata": {},
   "source": [
    "#### Preenchendo registros faltantes"
   ]
  },
  {
   "cell_type": "code",
   "execution_count": 39,
   "id": "cd9a8dc4",
   "metadata": {},
   "outputs": [
    {
     "data": {
      "text/plain": [
       "0    35.0\n",
       "1    29.0\n",
       "2     NaN\n",
       "3    23.0\n",
       "4    35.0\n",
       "5     NaN\n",
       "6    32.0\n",
       "7     NaN\n",
       "8    45.0\n",
       "9     NaN\n",
       "Name: SkinThickness, dtype: float64"
      ]
     },
     "execution_count": 39,
     "metadata": {},
     "output_type": "execute_result"
    }
   ],
   "source": [
    "df[\"SkinThickness\"].head(10) #selecionei atributo qualquer"
   ]
  },
  {
   "cell_type": "code",
   "execution_count": 40,
   "id": "b70f356d",
   "metadata": {},
   "outputs": [
    {
     "data": {
      "text/plain": [
       "0    35.0\n",
       "1    29.0\n",
       "2     0.0\n",
       "3    23.0\n",
       "4    35.0\n",
       "5     0.0\n",
       "6    32.0\n",
       "7     0.0\n",
       "8    45.0\n",
       "9     0.0\n",
       "Name: SkinThickness, dtype: float64"
      ]
     },
     "execution_count": 40,
     "metadata": {},
     "output_type": "execute_result"
    }
   ],
   "source": [
    "df_diabetes[\"SkinThickness\"].fillna(0).head(10) #preencher com 0"
   ]
  },
  {
   "cell_type": "markdown",
   "id": "4c469246",
   "metadata": {},
   "source": [
    "#### Preenchendo os registros faltantes com os valores da média/moda/mediana"
   ]
  },
  {
   "cell_type": "code",
   "execution_count": 41,
   "id": "d6475f3c",
   "metadata": {},
   "outputs": [
    {
     "name": "stdout",
     "output_type": "stream",
     "text": [
      "29.153419593345657\n"
     ]
    }
   ],
   "source": [
    "media = df[\"SkinThickness\"].mean()\n",
    "print(media)"
   ]
  },
  {
   "cell_type": "code",
   "execution_count": 43,
   "id": "3f5a39a6",
   "metadata": {},
   "outputs": [
    {
     "data": {
      "text/plain": [
       "0    35.00000\n",
       "1    29.00000\n",
       "2    29.15342\n",
       "3    23.00000\n",
       "4    35.00000\n",
       "5    29.15342\n",
       "6    32.00000\n",
       "7    29.15342\n",
       "8    45.00000\n",
       "9    29.15342\n",
       "Name: SkinThickness, dtype: float64"
      ]
     },
     "execution_count": 43,
     "metadata": {},
     "output_type": "execute_result"
    }
   ],
   "source": [
    "df[\"SkinThickness\"].fillna(media).head(10) \n",
    "#preencher o atributo NAN ou 0 c a média\n",
    "#valor média daquele atributo"
   ]
  },
  {
   "cell_type": "code",
   "execution_count": 44,
   "id": "30cdfdc3",
   "metadata": {},
   "outputs": [
    {
     "name": "stdout",
     "output_type": "stream",
     "text": [
      "0    32.0\n",
      "dtype: float64\n"
     ]
    }
   ],
   "source": [
    "mode = df[\"SkinThickness\"].mode()\n",
    "print(mode)"
   ]
  },
  {
   "cell_type": "code",
   "execution_count": 45,
   "id": "0142a785",
   "metadata": {},
   "outputs": [
    {
     "data": {
      "text/plain": [
       "0    35.0\n",
       "1    29.0\n",
       "2    32.0\n",
       "3    23.0\n",
       "4    35.0\n",
       "5    32.0\n",
       "6    32.0\n",
       "7    32.0\n",
       "8    45.0\n",
       "9    32.0\n",
       "Name: SkinThickness, dtype: float64"
      ]
     },
     "execution_count": 45,
     "metadata": {},
     "output_type": "execute_result"
    }
   ],
   "source": [
    "df[\"SkinThickness\"].fillna(int(mode)).head(10) "
   ]
  },
  {
   "cell_type": "code",
   "execution_count": 47,
   "id": "8c8af889",
   "metadata": {},
   "outputs": [
    {
     "name": "stdout",
     "output_type": "stream",
     "text": [
      "29.0\n"
     ]
    }
   ],
   "source": [
    "median = df[\"SkinThickness\"].median()\n",
    "print(median)"
   ]
  },
  {
   "cell_type": "code",
   "execution_count": 48,
   "id": "25d764fc",
   "metadata": {},
   "outputs": [
    {
     "data": {
      "text/plain": [
       "0    35.0\n",
       "1    29.0\n",
       "2    29.0\n",
       "3    23.0\n",
       "4    35.0\n",
       "5    29.0\n",
       "6    32.0\n",
       "7    29.0\n",
       "8    45.0\n",
       "9    29.0\n",
       "Name: SkinThickness, dtype: float64"
      ]
     },
     "execution_count": 48,
     "metadata": {},
     "output_type": "execute_result"
    }
   ],
   "source": [
    "df[\"SkinThickness\"].fillna(median).head(10) "
   ]
  },
  {
   "cell_type": "markdown",
   "id": "aa5e28c6",
   "metadata": {},
   "source": [
    "### Preenchendo com valores diferentes cada atributo do DF"
   ]
  },
  {
   "cell_type": "code",
   "execution_count": 49,
   "id": "9b4bd958",
   "metadata": {},
   "outputs": [],
   "source": [
    "preenchimento = {'SkinThickness':media,\n",
    "                 'Insulin':df[\"Insulin\"].median(),\n",
    "                \"Glucose\":0} #dicionário"
   ]
  },
  {
   "cell_type": "code",
   "execution_count": 50,
   "id": "b70a310f",
   "metadata": {},
   "outputs": [
    {
     "data": {
      "text/plain": [
       "Pregnancies      111\n",
       "Glucose            0\n",
       "BloodPressure     35\n",
       "SkinThickness      0\n",
       "Insulin            0\n",
       "BMI               11\n",
       "dtype: int64"
      ]
     },
     "execution_count": 50,
     "metadata": {},
     "output_type": "execute_result"
    }
   ],
   "source": [
    "df.fillna(value=preenchimento).isnull().sum()\n",
    "\n",
    "# Através do value que eu quero especificar os determinados val p cada um dos atributos"
   ]
  },
  {
   "cell_type": "markdown",
   "id": "a45f3f5f",
   "metadata": {},
   "source": [
    "### Preenchendo registros faltantes por propagação de valores\n",
    "                    ###  Forward e Backward"
   ]
  },
  {
   "cell_type": "code",
   "execution_count": 51,
   "id": "1474d557",
   "metadata": {},
   "outputs": [
    {
     "data": {
      "text/plain": [
       "0    35.0\n",
       "1    29.0\n",
       "2     NaN\n",
       "3    23.0\n",
       "4    35.0\n",
       "5     NaN\n",
       "6    32.0\n",
       "7     NaN\n",
       "8    45.0\n",
       "9     NaN\n",
       "Name: SkinThickness, dtype: float64"
      ]
     },
     "execution_count": 51,
     "metadata": {},
     "output_type": "execute_result"
    }
   ],
   "source": [
    "df[\"SkinThickness\"].head(10)"
   ]
  },
  {
   "cell_type": "code",
   "execution_count": 52,
   "id": "57f3c034",
   "metadata": {},
   "outputs": [
    {
     "data": {
      "text/plain": [
       "0    35.0\n",
       "1    29.0\n",
       "2    29.0\n",
       "3    23.0\n",
       "4    35.0\n",
       "5    35.0\n",
       "6    32.0\n",
       "7    32.0\n",
       "8    45.0\n",
       "9    45.0\n",
       "Name: SkinThickness, dtype: float64"
      ]
     },
     "execution_count": 52,
     "metadata": {},
     "output_type": "execute_result"
    }
   ],
   "source": [
    "df[\"SkinThickness\"].fillna(method='ffill').head(10)\n",
    "\n",
    "#ffill faz alteração através do registro válido anterior"
   ]
  },
  {
   "cell_type": "code",
   "execution_count": 53,
   "id": "a27f6b4b",
   "metadata": {},
   "outputs": [
    {
     "data": {
      "text/plain": [
       "0    35.0\n",
       "1    29.0\n",
       "2    23.0\n",
       "3    23.0\n",
       "4    35.0\n",
       "5    32.0\n",
       "6    32.0\n",
       "7    45.0\n",
       "8    45.0\n",
       "9    23.0\n",
       "Name: SkinThickness, dtype: float64"
      ]
     },
     "execution_count": 53,
     "metadata": {},
     "output_type": "execute_result"
    }
   ],
   "source": [
    "df[\"SkinThickness\"].fillna(method='bfill').head(10)\n",
    "\n",
    "#ffill faz alteração através do registro válido posterior"
   ]
  },
  {
   "cell_type": "markdown",
   "id": "adde6f62",
   "metadata": {},
   "source": [
    "### Preenchendo registros faltantes utilizando o Inputer (Sklearn)"
   ]
  },
  {
   "cell_type": "code",
   "execution_count": 56,
   "id": "680c04f3",
   "metadata": {},
   "outputs": [],
   "source": [
    "from sklearn.impute import SimpleImputer"
   ]
  },
  {
   "cell_type": "code",
   "execution_count": 57,
   "id": "310be90e",
   "metadata": {},
   "outputs": [],
   "source": [
    "imp = SimpleImputer(missing_values=np.nan, strategy=\"mean\")\n",
    "\n",
    "# Instanciar a classe SImpleImputer\n",
    "# missing = NAN"
   ]
  },
  {
   "cell_type": "code",
   "execution_count": 61,
   "id": "6a44de8d",
   "metadata": {},
   "outputs": [],
   "source": [
    "df[\"SkinThickness2\"] = imp.fit_transform(df[[\"SkinThickness\"]])\n",
    "\n",
    "#imp traz a funçao \n",
    "#fit transform p aprender a partir dos dados e fzer a transformação"
   ]
  },
  {
   "cell_type": "code",
   "execution_count": 62,
   "id": "0ae35bf2",
   "metadata": {},
   "outputs": [
    {
     "data": {
      "text/html": [
       "<div>\n",
       "<style scoped>\n",
       "    .dataframe tbody tr th:only-of-type {\n",
       "        vertical-align: middle;\n",
       "    }\n",
       "\n",
       "    .dataframe tbody tr th {\n",
       "        vertical-align: top;\n",
       "    }\n",
       "\n",
       "    .dataframe thead th {\n",
       "        text-align: right;\n",
       "    }\n",
       "</style>\n",
       "<table border=\"1\" class=\"dataframe\">\n",
       "  <thead>\n",
       "    <tr style=\"text-align: right;\">\n",
       "      <th></th>\n",
       "      <th>SkinThickness</th>\n",
       "      <th>SkinThickness2</th>\n",
       "    </tr>\n",
       "  </thead>\n",
       "  <tbody>\n",
       "    <tr>\n",
       "      <th>0</th>\n",
       "      <td>35.0</td>\n",
       "      <td>35.00000</td>\n",
       "    </tr>\n",
       "    <tr>\n",
       "      <th>1</th>\n",
       "      <td>29.0</td>\n",
       "      <td>29.00000</td>\n",
       "    </tr>\n",
       "    <tr>\n",
       "      <th>2</th>\n",
       "      <td>NaN</td>\n",
       "      <td>29.15342</td>\n",
       "    </tr>\n",
       "    <tr>\n",
       "      <th>3</th>\n",
       "      <td>23.0</td>\n",
       "      <td>23.00000</td>\n",
       "    </tr>\n",
       "    <tr>\n",
       "      <th>4</th>\n",
       "      <td>35.0</td>\n",
       "      <td>35.00000</td>\n",
       "    </tr>\n",
       "    <tr>\n",
       "      <th>5</th>\n",
       "      <td>NaN</td>\n",
       "      <td>29.15342</td>\n",
       "    </tr>\n",
       "    <tr>\n",
       "      <th>6</th>\n",
       "      <td>32.0</td>\n",
       "      <td>32.00000</td>\n",
       "    </tr>\n",
       "    <tr>\n",
       "      <th>7</th>\n",
       "      <td>NaN</td>\n",
       "      <td>29.15342</td>\n",
       "    </tr>\n",
       "    <tr>\n",
       "      <th>8</th>\n",
       "      <td>45.0</td>\n",
       "      <td>45.00000</td>\n",
       "    </tr>\n",
       "    <tr>\n",
       "      <th>9</th>\n",
       "      <td>NaN</td>\n",
       "      <td>29.15342</td>\n",
       "    </tr>\n",
       "  </tbody>\n",
       "</table>\n",
       "</div>"
      ],
      "text/plain": [
       "   SkinThickness  SkinThickness2\n",
       "0           35.0        35.00000\n",
       "1           29.0        29.00000\n",
       "2            NaN        29.15342\n",
       "3           23.0        23.00000\n",
       "4           35.0        35.00000\n",
       "5            NaN        29.15342\n",
       "6           32.0        32.00000\n",
       "7            NaN        29.15342\n",
       "8           45.0        45.00000\n",
       "9            NaN        29.15342"
      ]
     },
     "execution_count": 62,
     "metadata": {},
     "output_type": "execute_result"
    }
   ],
   "source": [
    "df[[\"SkinThickness\",\"SkinThickness2\"]].head(10)\n",
    "\n",
    "#substituiu pela média"
   ]
  },
  {
   "cell_type": "code",
   "execution_count": null,
   "id": "ce19b421",
   "metadata": {},
   "outputs": [],
   "source": []
  }
 ],
 "metadata": {
  "kernelspec": {
   "display_name": "Python 3",
   "language": "python",
   "name": "python3"
  },
  "language_info": {
   "codemirror_mode": {
    "name": "ipython",
    "version": 3
   },
   "file_extension": ".py",
   "mimetype": "text/x-python",
   "name": "python",
   "nbconvert_exporter": "python",
   "pygments_lexer": "ipython3",
   "version": "3.8.8"
  }
 },
 "nbformat": 4,
 "nbformat_minor": 5
}
